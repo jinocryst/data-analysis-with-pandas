{
  "nbformat": 4,
  "nbformat_minor": 0,
  "metadata": {
    "colab": {
      "provenance": [],
      "include_colab_link": true
    },
    "kernelspec": {
      "name": "python3",
      "display_name": "Python 3"
    },
    "language_info": {
      "name": "python"
    }
  },
  "cells": [
    {
      "cell_type": "markdown",
      "metadata": {
        "id": "view-in-github",
        "colab_type": "text"
      },
      "source": [
        "<a href=\"https://colab.research.google.com/github/jinocryst/data-analysis-with-pandas/blob/main/%EC%98%A4%ED%94%88%EC%86%8C%EC%8A%A4_%EB%8D%B0%EC%9D%B4%ED%84%B0_%EB%B6%84%EC%84%9D_%EC%A4%91%EA%B0%84%EA%B3%BC%EC%A0%9C%EB%AC%BC.ipynb\" target=\"_parent\"><img src=\"https://colab.research.google.com/assets/colab-badge.svg\" alt=\"Open In Colab\"/></a>"
      ]
    },
    {
      "cell_type": "markdown",
      "source": [
        "\n",
        "\n",
        "---\n",
        "\n",
        "\n",
        "\n",
        "# 오픈소스 기반 데이터 분석 - 중간과제물\n"
      ],
      "metadata": {
        "id": "DkPKaAsoRq5Q"
      }
    },
    {
      "cell_type": "markdown",
      "source": [
        "### 1-2 Python을 사용하여 API를 호출하는 코드를 작성하고, 2015년 1월부터 2024년 12월까지의 개인 유형의 현년 전기, 가스, 수도, 지역난방 에너지 사용량 데이터를 수집하는 프로그램을 작성하시오. API 호출 성공을 확인할 수 있는 실행 결과를 캡처하여 첨부하시오."
      ],
      "metadata": {
        "id": "-I7BVVlnRrB0"
      }
    },
    {
      "cell_type": "code",
      "source": [
        "import requests\n",
        "import json\n",
        "\n",
        "\n",
        "responses = []    # API Request json 수집용 리스트\n",
        "\n",
        "def get_year_months():\n",
        "  year_months = []\n",
        "  for year in range(2015, 2024+1):\n",
        "    for month in range(1,12+1):\n",
        "      year_months.append(f'{year}{month:02d}')\n",
        "\n",
        "  #print(\"생성된 연도-월 목록:\")\n",
        "  #print(year_months)\n",
        "  #print(f\"총 {len(year_months)}개 (2015.01 ~ 2024.12)\")\n",
        "  return year_months\n",
        "\n",
        "def get_responses():\n",
        "\n",
        "  # 기간중의 모든 응답결과 중 list_total_count 체크한 결과 7이였으므로 , 5보다 큰 10으로 변경하였음\n",
        "  base_url = f'http://openapi.seoul.go.kr:8088/{api_key}/json/energyUseDataSummaryInfo/1/10'\n",
        "\n",
        "  success_count = 0 # API Request 성공건수\n",
        "  fail_count = 0    # API Request 실패건수\n",
        "\n",
        "  for year_month in get_year_months():\n",
        "    url = f'{base_url}/{year_month[:4]}/{year_month[4:]}'\n",
        "\n",
        "    try:\n",
        "      response = requests.get(url)\n",
        "      response.raise_for_status()\n",
        "      data = response.json()\n",
        "\n",
        "      responses.append(data)\n",
        "      # print(f\"{year_month} 데이터 수집 완료\")\n",
        "\n",
        "    except requests.exceptions.RequestException as e:\n",
        "      print(f\"{year_month} API 호출 실패: {e}\")\n",
        "    except json.JSONDecodeError as e:\n",
        "      print(f\"{year_month} JSON 파싱 실패: {e}\")\n",
        "\n",
        "    if response.status_code == 200:\n",
        "      # print(\"api 호출 성공\")\n",
        "      # print(response.json())\n",
        "      success_count += 1\n",
        "    else:\n",
        "      # print(f\"API 호출 실패: {response.status_code}\")\n",
        "      fail_count += 1\n",
        "\n",
        "  # 결과 확인용\n",
        "  if responses:\n",
        "\n",
        "      # 전체 결과들의 list_total_count 값 확인하여 파라미터변경 필요여부 확인코드(모든 결과가 7건씩이였음)\n",
        "      # total_counts = [\n",
        "      # r.get('energyUseDataSummaryInfo', {}).get('list_total_count', None)\n",
        "      #   for r in responses\n",
        "      # ]\n",
        "      # print(\"list_total_count 목록:\", total_counts)\n",
        "    print(f\"총 요청 수: {len(responses)}건\")\n",
        "    print(f\"성공 건수: {success_count}건\")\n",
        "    print(f\"실패 건수: {fail_count}건\")\n",
        "\n",
        "    return responses\n",
        "\n",
        "\n",
        "def main():\n",
        "\n",
        "    personal_data = []\n",
        "    responses = get_responses()\n",
        "    for r in responses:\n",
        "      info = r.get(\"energyUseDataSummaryInfo\", {})\n",
        "      result = info.get(\"RESULT\", {})\n",
        "      code = result.get(\"CODE\", \"UNKNOWN\")\n",
        "\n",
        "      if code == \"INFO-000\":  # 정상인경우\n",
        "        rows = info.get(\"row\", [])\n",
        "        for row in rows:\n",
        "          # 개인 유형만 추출\n",
        "          if row.get(\"MM_TYPE\") == \"개인\":\n",
        "              personal_data.append({\n",
        "                  \"YEAR\": row.get(\"YEAR\"),\n",
        "                  \"MON\": row.get(\"MON\"),\n",
        "                  \"EUS\": row.get(\"EUS\"),  #전기사용량(EUS)\n",
        "                  \"GUS\": row.get(\"GUS\"),  #가스사용량(GUS)\n",
        "                  \"WUS\": row.get(\"WUS\"),  #수도사용량(WUS)\n",
        "                  \"HUS\": row.get(\"HUS\"),  #지역난방(HUS)\n",
        "              })\n",
        "      else:\n",
        "        print\n",
        "\n",
        "    # 결과 출력\n",
        "    print(f\"‘개인’ 유형 데이터 수집 성공 건수: {len(personal_data)}건\\n\") # 기대치 120건\n",
        "    for i, data in enumerate(personal_data, start=1):\n",
        "      print(f\"[{i}] [{data['YEAR']}년 {data['MON']}월] 전기사용량(EUS): {data['EUS']} , 가스사용량(GUS): {data['GUS']} , 수도사용량(WUS): {data['WUS']} , 지역난방(HUS): {data['HUS']}\")\n",
        "\n",
        "\n",
        "if __name__ == \"__main__\":\n",
        "    main()"
      ],
      "metadata": {
        "id": "2Y2HEiaiRwAI",
        "colab": {
          "base_uri": "https://localhost:8080/"
        },
        "outputId": "52dac00a-c1db-4eed-bd0f-9cee6129cb96"
      },
      "execution_count": 22,
      "outputs": [
        {
          "output_type": "stream",
          "name": "stdout",
          "text": [
            "총 요청 수: 120건\n",
            "성공 건수: 120건\n",
            "실패 건수: 0건\n",
            "‘개인’ 유형 데이터 수집 성공 건수: 120건\n",
            "\n",
            "[1] [2015년 01월] 전기사용량(EUS): 193784708 , 가스사용량(GUS): 59133720 , 수도사용량(WUS): 12819757.886 , 지역난방(HUS): 22740838.937\n",
            "[2] [2015년 02월] 전기사용량(EUS): 189974230 , 가스사용량(GUS): 56487358 , 수도사용량(WUS): 12656888.218 , 지역난방(HUS): 18793320.213\n",
            "[3] [2015년 03월] 전기사용량(EUS): 175215719 , 가스사용량(GUS): 49984873 , 수도사용량(WUS): 12655474.249 , 지역난방(HUS): 13826348.508\n",
            "[4] [2015년 04월] 전기사용량(EUS): 183891769 , 가스사용량(GUS): 37306841 , 수도사용량(WUS): 12954773.246 , 지역난방(HUS): 5836002.885\n",
            "[5] [2015년 05월] 전기사용량(EUS): 177289769 , 가스사용량(GUS): 22060892 , 수도사용량(WUS): 13086734.214 , 지역난방(HUS): 1320895.801\n",
            "[6] [2015년 06월] 전기사용량(EUS): 186073153 , 가스사용량(GUS): 12677645 , 수도사용량(WUS): 14241651.402 , 지역난방(HUS): 294312.634\n",
            "[7] [2015년 07월] 전기사용량(EUS): 165114568 , 가스사용량(GUS): 8893640 , 수도사용량(WUS): 12083879.038 , 지역난방(HUS): 702863.645\n",
            "[8] [2015년 08월] 전기사용량(EUS): 242000479 , 가스사용량(GUS): 7619018 , 수도사용량(WUS): 15164553.742 , 지역난방(HUS): 460288.965\n",
            "[9] [2015년 09월] 전기사용량(EUS): 207540868 , 가스사용량(GUS): 6518422 , 수도사용량(WUS): 14419078.727 , 지역난방(HUS): 305710.728\n",
            "[10] [2015년 10월] 전기사용량(EUS): 186473958 , 가스사용량(GUS): 8924018 , 수도사용량(WUS): 14711828.766 , 지역난방(HUS): 3167520.127\n",
            "[11] [2015년 11월] 전기사용량(EUS): 196892030 , 가스사용량(GUS): 20322557 , 수도사용량(WUS): 13692668.676 , 지역난방(HUS): 11210982.51\n",
            "[12] [2015년 12월] 전기사용량(EUS): 203388142 , 가스사용량(GUS): 40095231 , 수도사용량(WUS): 13904162.958 , 지역난방(HUS): 21102616.717\n",
            "[13] [2016년 01월] 전기사용량(EUS): 215330620 , 가스사용량(GUS): 57641741 , 수도사용량(WUS): 13218916.436 , 지역난방(HUS): 27186166.133\n",
            "[14] [2016년 02월] 전기사용량(EUS): 216677664 , 가스사용량(GUS): 68879796 , 수도사용량(WUS): 13312113.622 , 지역난방(HUS): 21452994.715\n",
            "[15] [2016년 03월] 전기사용량(EUS): 203451798 , 가스사용량(GUS): 60019600 , 수도사용량(WUS): 13191615.499 , 지역난방(HUS): 14070182.978\n",
            "[16] [2016년 04월] 전기사용량(EUS): 202541336 , 가스사용량(GUS): 40370608 , 수도사용량(WUS): 13748935.736 , 지역난방(HUS): 4556396.936\n",
            "[17] [2016년 05월] 전기사용량(EUS): 195448592 , 가스사용량(GUS): 23077064 , 수도사용량(WUS): 13762618.524 , 지역난방(HUS): 1166907.615\n",
            "[18] [2016년 06월] 전기사용량(EUS): 205061790 , 가스사용량(GUS): 13344932 , 수도사용량(WUS): 14543461.284 , 지역난방(HUS): 340601.066\n",
            "[19] [2016년 07월] 전기사용량(EUS): 226567751 , 가스사용량(GUS): 9641899 , 수도사용량(WUS): 14686067.972 , 지역난방(HUS): 89835.795\n",
            "[20] [2016년 08월] 전기사용량(EUS): 303032015 , 가스사용량(GUS): 8324791 , 수도사용량(WUS): 15442898.396 , 지역난방(HUS): 27303.979\n",
            "[21] [2016년 09월] 전기사용량(EUS): 241676328 , 가스사용량(GUS): 7030657 , 수도사용량(WUS): 15233262.266 , 지역난방(HUS): 2597269.386\n",
            "[22] [2016년 10월] 전기사용량(EUS): 197827666 , 가스사용량(GUS): 10129547 , 수도사용량(WUS): 15173666.268 , 지역난방(HUS): 2142328.405\n",
            "[23] [2016년 11월] 전기사용량(EUS): 204812090 , 가스사용량(GUS): 23915383 , 수도사용량(WUS): 7215169 , 지역난방(HUS): 10865402.481\n",
            "[24] [2016년 12월] 전기사용량(EUS): 212192127 , 가스사용량(GUS): 46917377 , 수도사용량(WUS): 14415082.726 , 지역난방(HUS): 17554645.961\n",
            "[25] [2017년 01월] 전기사용량(EUS): 222980440 , 가스사용량(GUS): 61781772 , 수도사용량(WUS): 14077034.016 , 지역난방(HUS): 20567265.356\n",
            "[26] [2017년 02월] 전기사용량(EUS): 226181991 , 가스사용량(GUS): 73537514 , 수도사용량(WUS): 13724166.552 , 지역난방(HUS): 17733782.246\n",
            "[27] [2017년 03월] 전기사용량(EUS): 208386870 , 가스사용량(GUS): 64297007 , 수도사용량(WUS): 13598081.92 , 지역난방(HUS): 11477962.549\n",
            "[28] [2017년 04월] 전기사용량(EUS): 214202199 , 가스사용량(GUS): 45050211 , 수도사용량(WUS): 12690616.841 , 지역난방(HUS): 4466510.567\n",
            "[29] [2017년 05월] 전기사용량(EUS): 209894672 , 가스사용량(GUS): 25103152 , 수도사용량(WUS): 12950202.184 , 지역난방(HUS): 19809726.81\n",
            "[30] [2017년 06월] 전기사용량(EUS): 211179181 , 가스사용량(GUS): 14312533 , 수도사용량(WUS): 13629782.778 , 지역난방(HUS): 235859.209\n",
            "[31] [2017년 07월] 전기사용량(EUS): 255974689 , 가스사용량(GUS): 10085989 , 수도사용량(WUS): 13786672.672 , 지역난방(HUS): 40992.123\n",
            "[32] [2017년 08월] 전기사용량(EUS): 297850172 , 가스사용량(GUS): 8429188 , 수도사용량(WUS): 14291829.084 , 지역난방(HUS): 118927.011\n",
            "[33] [2017년 09월] 전기사용량(EUS): 232360099 , 가스사용량(GUS): 8981707 , 수도사용량(WUS): 13842675.562 , 지역난방(HUS): 1279967.753\n",
            "[34] [2017년 10월] 전기사용량(EUS): 202205893 , 가스사용량(GUS): 11910453 , 수도사용량(WUS): 13811362.596 , 지역난방(HUS): 2177857.689\n",
            "[35] [2017년 11월] 전기사용량(EUS): 215620132 , 가스사용량(GUS): 26041170 , 수도사용량(WUS): 13268391.686 , 지역난방(HUS): 12290667.843\n",
            "[36] [2017년 12월] 전기사용량(EUS): 228503347 , 가스사용량(GUS): 59466188 , 수도사용량(WUS): 13243386.284 , 지역난방(HUS): 21819495.238\n",
            "[37] [2018년 01월] 전기사용량(EUS): 208518118 , 가스사용량(GUS): 82250572 , 수도사용량(WUS): 10997016.858 , 지역난방(HUS): 15268708.539\n",
            "[38] [2018년 02월] 전기사용량(EUS): 243271752 , 가스사용량(GUS): 88496947 , 수도사용량(WUS): 12905042.86 , 지역난방(HUS): 22671708.494\n",
            "[39] [2018년 03월] 전기사용량(EUS): 219203768 , 가스사용량(GUS): 73426397 , 수도사용량(WUS): 12769174.532 , 지역난방(HUS): 10924939.951\n",
            "[40] [2018년 04월] 전기사용량(EUS): 222416406 , 가스사용량(GUS): 42565583 , 수도사용량(WUS): 13280372.714 , 지역난방(HUS): 5017072.364\n",
            "[41] [2018년 05월] 전기사용량(EUS): 213539965 , 가스사용량(GUS): 29234091 , 수도사용량(WUS): 13181988.612 , 지역난방(HUS): 1375720.246\n",
            "[42] [2018년 06월] 전기사용량(EUS): 222820943 , 가스사용량(GUS): 17132065 , 수도사용량(WUS): 14051336.092 , 지역난방(HUS): 285820.628\n",
            "[43] [2018년 07월] 전기사용량(EUS): 269705511 , 가스사용량(GUS): 11259835 , 수도사용량(WUS): 14333667.052 , 지역난방(HUS): 25843523.832\n",
            "[44] [2018년 08월] 전기사용량(EUS): 393315950 , 가스사용량(GUS): 8166455 , 수도사용량(WUS): 14956551.722 , 지역난방(HUS): 15855.507\n",
            "[45] [2018년 09월] 전기사용량(EUS): 267255459 , 가스사용량(GUS): 7210123 , 수도사용량(WUS): 14705302.054 , 지역난방(HUS): 192778.954\n",
            "[46] [2018년 10월] 전기사용량(EUS): 217274530 , 가스사용량(GUS): 14102506 , 수도사용량(WUS): 14728158.238 , 지역난방(HUS): 4137960.203\n",
            "[47] [2018년 11월] 전기사용량(EUS): 227294230 , 가스사용량(GUS): 31239511 , 수도사용량(WUS): 13706690.088 , 지역난방(HUS): 10276290.855\n",
            "[48] [2018년 12월] 전기사용량(EUS): 238692561 , 가스사용량(GUS): 54019855 , 수도사용량(WUS): 13732488.456 , 지역난방(HUS): 20421845.603\n",
            "[49] [2019년 01월] 전기사용량(EUS): 253600219 , 가스사용량(GUS): 80308239 , 수도사용량(WUS): 13442971.1 , 지역난방(HUS): 21963093.848\n",
            "[50] [2019년 02월] 전기사용량(EUS): 244927344 , 가스사용량(GUS): 81902188 , 수도사용량(WUS): 13495213.9 , 지역난방(HUS): 106134923.132\n",
            "[51] [2019년 03월] 전기사용량(EUS): 223736787 , 가스사용량(GUS): 65146586.443 , 수도사용량(WUS): 13167550 , 지역난방(HUS): 13194262.09\n",
            "[52] [2019년 04월] 전기사용량(EUS): 232166121 , 가스사용량(GUS): 49391508 , 수도사용량(WUS): 13753270.8 , 지역난방(HUS): 7858587.747\n",
            "[53] [2019년 05월] 전기사용량(EUS): 221753919 , 가스사용량(GUS): 31370114 , 수도사용량(WUS): 13610225.3 , 지역난방(HUS): 1442006.927\n",
            "[54] [2019년 06월] 전기사용량(EUS): 226119779 , 가스사용량(GUS): 15771701 , 수도사용량(WUS): 14223536.4 , 지역난방(HUS): 331690.945\n",
            "[55] [2019년 07월] 전기사용량(EUS): 257854441 , 가스사용량(GUS): 10700835 , 수도사용량(WUS): 14451345.9 , 지역난방(HUS): 968957.161\n",
            "[56] [2019년 08월] 전기사용량(EUS): 342924356 , 가스사용량(GUS): 8884580 , 수도사용량(WUS): 15115644.2 , 지역난방(HUS): 147683.081\n",
            "[57] [2019년 09월] 전기사용량(EUS): 275890739 , 가스사용량(GUS): 8397984 , 수도사용량(WUS): 14472395.4 , 지역난방(HUS): 2292916.674\n",
            "[58] [2019년 10월] 전기사용량(EUS): 228095713 , 가스사용량(GUS): 11876816 , 수도사용량(WUS): 14804362.3 , 지역난방(HUS): 2590192.143\n",
            "[59] [2019년 11월] 전기사용량(EUS): 231283724 , 가스사용량(GUS): 24835894 , 수도사용량(WUS): 14123043.9 , 지역난방(HUS): 14983364.884\n",
            "[60] [2019년 12월] 전기사용량(EUS): 244976724 , 가스사용량(GUS): 54509050 , 수도사용량(WUS): 14184785.2 , 지역난방(HUS): 23558262.283\n",
            "[61] [2020년 01월] 전기사용량(EUS): 258045023 , 가스사용량(GUS): 74543710 , 수도사용량(WUS): 13737344.7 , 지역난방(HUS): 24876689.382\n",
            "[62] [2020년 02월] 전기사용량(EUS): 254879033 , 가스사용량(GUS): 76363768 , 수도사용량(WUS): 14052828.8 , 지역난방(HUS): 20848668.612\n",
            "[63] [2020년 03월] 전기사용량(EUS): 244369714 , 가스사용량(GUS): 64367515 , 수도사용량(WUS): 13841531 , 지역난방(HUS): 14194450.151\n",
            "[64] [2020년 04월] 전기사용량(EUS): 247831442 , 가스사용량(GUS): 48373693 , 수도사용량(WUS): 14618775.2 , 지역난방(HUS): 8499792.566\n",
            "[65] [2020년 05월] 전기사용량(EUS): 237473019 , 가스사용량(GUS): 33564967 , 수도사용량(WUS): 14679505.8 , 지역난방(HUS): 3702573.787\n",
            "[66] [2020년 06월] 전기사용량(EUS): 255905483 , 가스사용량(GUS): 18132779 , 수도사용량(WUS): 15240275.9 , 지역난방(HUS): 705948.444\n",
            "[67] [2020년 07월] 전기사용량(EUS): 267363208 , 가스사용량(GUS): 10708959 , 수도사용량(WUS): 15033682.8 , 지역난방(HUS): 21617947.477\n",
            "[68] [2020년 08월] 전기사용량(EUS): 320723239 , 가스사용량(GUS): 10177428 , 수도사용량(WUS): 15600097.8 , 지역난방(HUS): 286814.663\n",
            "[69] [2020년 09월] 전기사용량(EUS): 309166830 , 가스사용량(GUS): 8026967 , 수도사용량(WUS): 15232496.1 , 지역난방(HUS): 301630.266\n",
            "[70] [2020년 10월] 전기사용량(EUS): 239397195 , 가스사용량(GUS): 16322881 , 수도사용량(WUS): 15641048.9 , 지역난방(HUS): 4581073.913\n",
            "[71] [2020년 11월] 전기사용량(EUS): 247308528 , 가스사용량(GUS): 30095679 , 수도사용량(WUS): 14835013.9 , 지역난방(HUS): 12882737.572\n",
            "[72] [2020년 12월] 전기사용량(EUS): 265370372 , 가스사용량(GUS): 51095720 , 수도사용량(WUS): 15036546.3 , 지역난방(HUS): 26512966.052\n",
            "[73] [2021년 01월] 전기사용량(EUS): 287882528 , 가스사용량(GUS): 80955422 , 수도사용량(WUS): 14273105.8 , 지역난방(HUS): 31069705.783\n",
            "[74] [2021년 02월] 전기사용량(EUS): 271224712 , 가스사용량(GUS): 85581769 , 수도사용량(WUS): 13679936.9 , 지역난방(HUS): 22238103.26\n",
            "[75] [2021년 03월] 전기사용량(EUS): 243868926 , 가스사용량(GUS): 67363697 , 수도사용량(WUS): 14263783.7 , 지역난방(HUS): 12528828.427\n",
            "[76] [2021년 04월] 전기사용량(EUS): 248131327 , 가스사용량(GUS): 43591034 , 수도사용량(WUS): 14570687.2 , 지역난방(HUS): 5220678.501\n",
            "[77] [2021년 05월] 전기사용량(EUS): 241741576 , 가스사용량(GUS): 24638403 , 수도사용량(WUS): 14312460.916 , 지역난방(HUS): 2246730.037\n",
            "[78] [2021년 06월] 전기사용량(EUS): 254958704 , 가스사용량(GUS): 18898880 , 수도사용량(WUS): 15174790.6 , 지역난방(HUS): 396903.273\n",
            "[79] [2021년 07월] 전기사용량(EUS): 334733756 , 가스사용량(GUS): 9631171 , 수도사용량(WUS): 16619105.064 , 지역난방(HUS): 5529269.058\n",
            "[80] [2021년 08월] 전기사용량(EUS): 409719040 , 가스사용량(GUS): 10205066 , 수도사용량(WUS): 15737994.8 , 지역난방(HUS): 127607.838\n",
            "[81] [2021년 09월] 전기사용량(EUS): 290606638 , 가스사용량(GUS): 6602872 , 수도사용량(WUS): 15497783.9 , 지역난방(HUS): 159066.058\n",
            "[82] [2021년 10월] 전기사용량(EUS): 253845816 , 가스사용량(GUS): 13840155 , 수도사용량(WUS): 15930639.8 , 지역난방(HUS): 4220985.501\n",
            "[83] [2021년 11월] 전기사용량(EUS): 255516339 , 가스사용량(GUS): 28571168 , 수도사용량(WUS): 14975050.4 , 지역난방(HUS): 13463697.643\n",
            "[84] [2021년 12월] 전기사용량(EUS): 265314948 , 가스사용량(GUS): 54651317 , 수도사용량(WUS): 14873728.5 , 지역난방(HUS): 25989752.285\n",
            "[85] [2022년 01월] 전기사용량(EUS): 286037593 , 가스사용량(GUS): 80605997 , 수도사용량(WUS): 14303008.9 , 지역난방(HUS): 30320240.229\n",
            "[86] [2022년 02월] 전기사용량(EUS): 279071999 , 가스사용량(GUS): 90004956 , 수도사용량(WUS): 14437161.1 , 지역난방(HUS): 27615965.122\n",
            "[87] [2022년 03월] 전기사용량(EUS): 256771728 , 가스사용량(GUS): 75577723 , 수도사용량(WUS): 14181287.1 , 지역난방(HUS): 15843818.715\n",
            "[88] [2022년 04월] 전기사용량(EUS): 255028242 , 가스사용량(GUS): 49843915.6 , 수도사용량(WUS): 14443060.3 , 지역난방(HUS): 5725570.382\n",
            "[89] [2022년 05월] 전기사용량(EUS): 238866649 , 가스사용량(GUS): 28185559 , 수도사용량(WUS): 14344240.1 , 지역난방(HUS): 1457446.39\n",
            "[90] [2022년 06월] 전기사용량(EUS): 254486733 , 가스사용량(GUS): 15468022 , 수도사용량(WUS): 15087457.3 , 지역난방(HUS): 838539.99\n",
            "[91] [2022년 07월] 전기사용량(EUS): 336383318 , 가스사용량(GUS): 10701998 , 수도사용량(WUS): 14907198 , 지역난방(HUS): 50033.827\n",
            "[92] [2022년 08월] 전기사용량(EUS): 382965547 , 가스사용량(GUS): 8718677 , 수도사용량(WUS): 15555926.8 , 지역난방(HUS): 3278812.728\n",
            "[93] [2022년 09월] 전기사용량(EUS): 294121752 , 가스사용량(GUS): 9220604.8 , 수도사용량(WUS): 15016541.4 , 지역난방(HUS): 7221052.414\n",
            "[94] [2022년 10월] 전기사용량(EUS): 250724946 , 가스사용량(GUS): 13803068 , 수도사용량(WUS): 14983916.7 , 지역난방(HUS): 5216710.607\n",
            "[95] [2022년 11월] 전기사용량(EUS): 252081207 , 가스사용량(GUS): 28471902 , 수도사용량(WUS): 14485236.6 , 지역난방(HUS): 10685943.786\n",
            "[96] [2022년 12월] 전기사용량(EUS): 266989892 , 가스사용량(GUS): 52230601 , 수도사용량(WUS): 14538742.5 , 지역난방(HUS): 31655489.658\n",
            "[97] [2023년 01월] 전기사용량(EUS): 286485085 , 가스사용량(GUS): 82529062 , 수도사용량(WUS): 14466145 , 지역난방(HUS): 29668211.872\n",
            "[98] [2023년 02월] 전기사용량(EUS): 272702468 , 가스사용량(GUS): 82851936 , 수도사용량(WUS): 14516011.2 , 지역난방(HUS): 20320092.953\n",
            "[99] [2023년 03월] 전기사용량(EUS): 243877178 , 가스사용량(GUS): 62656340 , 수도사용량(WUS): 13506311.3 , 지역난방(HUS): 10516665.902\n",
            "[100] [2023년 04월] 전기사용량(EUS): 247142965 , 가스사용량(GUS): 38484227 , 수도사용량(WUS): 13951884.7 , 지역난방(HUS): 4292056.162\n",
            "[101] [2023년 05월] 전기사용량(EUS): 241448830 , 가스사용량(GUS): 25601698 , 수도사용량(WUS): 13928576.1 , 지역난방(HUS): 1354710.378\n",
            "[102] [2023년 06월] 전기사용량(EUS): 259143276 , 가스사용량(GUS): 14742811 , 수도사용량(WUS): 14822130.1 , 지역난방(HUS): 1169879.028\n",
            "[103] [2023년 07월] 전기사용량(EUS): 328201532 , 가스사용량(GUS): 9760384 , 수도사용량(WUS): 14673620.5 , 지역난방(HUS): 2659009.06\n",
            "[104] [2023년 08월] 전기사용량(EUS): 407479395 , 가스사용량(GUS): 8486915 , 수도사용량(WUS): 15402396.8 , 지역난방(HUS): 530124.99\n",
            "[105] [2023년 09월] 전기사용량(EUS): 332452167 , 가스사용량(GUS): 7674573 , 수도사용량(WUS): 14941654.4 , 지역난방(HUS): 19457189.828\n",
            "[106] [2023년 10월] 전기사용량(EUS): 255560826 , 가스사용량(GUS): 11273798 , 수도사용량(WUS): 14918622.9 , 지역난방(HUS): 3049594.261\n",
            "[107] [2023년 11월] 전기사용량(EUS): 255362764 , 가스사용량(GUS): 23749738 , 수도사용량(WUS): 14439208.8 , 지역난방(HUS): 13225464.736\n",
            "[108] [2023년 12월] 전기사용량(EUS): 271015225 , 가스사용량(GUS): 47560201 , 수도사용량(WUS): 14519931.6 , 지역난방(HUS): 24169250.596\n",
            "[109] [2024년 01월] 전기사용량(EUS): 290223476 , 가스사용량(GUS): 65608930 , 수도사용량(WUS): 14119336.8 , 지역난방(HUS): 26759601.094\n",
            "[110] [2024년 02월] 전기사용량(EUS): 280810330 , 가스사용량(GUS): 65184440 , 수도사용량(WUS): 14247296.7 , 지역난방(HUS): 18696968.203\n",
            "[111] [2024년 03월] 전기사용량(EUS): 259332255 , 가스사용량(GUS): 58563376 , 수도사용량(WUS): 13792441.8 , 지역난방(HUS): 13455710.256\n",
            "[112] [2024년 04월] 전기사용량(EUS): 256332884 , 가스사용량(GUS): 35786315 , 수도사용량(WUS): 14330249.1 , 지역난방(HUS): 3099650.225\n",
            "[113] [2024년 05월] 전기사용량(EUS): 244740675 , 가스사용량(GUS): 18077028 , 수도사용량(WUS): 14158142.9 , 지역난방(HUS): 28333197.76\n",
            "[114] [2024년 06월] 전기사용량(EUS): 270158916 , 가스사용량(GUS): 11903071 , 수도사용량(WUS): 14966075.6 , 지역난방(HUS): 20226852.923\n",
            "[115] [2024년 07월] 전기사용량(EUS): 340000663 , 가스사용량(GUS): 8319412 , 수도사용량(WUS): 14992942.2 , 지역난방(HUS): 2173041.617\n",
            "[116] [2024년 08월] 전기사용량(EUS): 463971328 , 가스사용량(GUS): 7072251 , 수도사용량(WUS): 15873544.6 , 지역난방(HUS): 130082.263\n",
            "[117] [2024년 09월] 전기사용량(EUS): 409872908 , 가스사용량(GUS): 5729131 , 수도사용량(WUS): 15143321.6 , 지역난방(HUS): 3420507.136\n",
            "[118] [2024년 10월] 전기사용량(EUS): 282268119 , 가스사용량(GUS): 8233421 , 수도사용량(WUS): 15297669.9 , 지역난방(HUS): 2695491.396\n",
            "[119] [2024년 11월] 전기사용량(EUS): 257927956 , 가스사용량(GUS): 17418221 , 수도사용량(WUS): 14678672.5 , 지역난방(HUS): 8836296.454\n",
            "[120] [2024년 12월] 전기사용량(EUS): 134828126 , 가스사용량(GUS): 42103424 , 수도사용량(WUS): 7326853.6 , 지역난방(HUS): 1513199.277\n"
          ]
        }
      ]
    },
    {
      "cell_type": "markdown",
      "source": [
        "### 2-1 수집한 JSON 형태의 데이터를 pandas DataFrame으로 변환하고, 데이터의 기본 정보를 출력하는 코드와 실행 결과를 첨부하시오.\n",
        "\n"
      ],
      "metadata": {
        "id": "9kHCFaGlRrE0"
      }
    },
    {
      "cell_type": "code",
      "source": [
        "import requests\n",
        "import json\n",
        "import pandas as pd\n",
        "\n",
        "\n",
        "responses = []    # API Request json 수집용 리스트\n",
        "\n",
        "def get_year_months():\n",
        "  year_months = []\n",
        "  for year in range(2015, 2024+1):\n",
        "    for month in range(1,12+1):\n",
        "      year_months.append(f'{year}{month:02d}')\n",
        "\n",
        "  #print(\"생성된 연도-월 목록:\")\n",
        "  #print(year_months)\n",
        "  #print(f\"총 {len(year_months)}개 (2015.01 ~ 2024.12)\")\n",
        "  return year_months\n",
        "\n",
        "def get_responses():\n",
        "\n",
        "  # 기간중의 모든 응답결과 중 list_total_count 체크한 결과 7이였으므로 , 5보다 큰 10으로 변경하였음\n",
        "  base_url = f'http://openapi.seoul.go.kr:8088/{api_key}/json/energyUseDataSummaryInfo/1/10'\n",
        "\n",
        "  success_count = 0 # API Request 성공건수\n",
        "  fail_count = 0    # API Request 실패건수\n",
        "\n",
        "  for year_month in get_year_months():\n",
        "    url = f'{base_url}/{year_month[:4]}/{year_month[4:]}'\n",
        "\n",
        "    try:\n",
        "      response = requests.get(url)\n",
        "      response.raise_for_status()\n",
        "      data = response.json()\n",
        "\n",
        "      responses.append(data)\n",
        "      # print(f\"{year_month} 데이터 수집 완료\")\n",
        "\n",
        "    except requests.exceptions.RequestException as e:\n",
        "      print(f\"{year_month} API 호출 실패: {e}\")\n",
        "    except json.JSONDecodeError as e:\n",
        "      print(f\"{year_month} JSON 파싱 실패: {e}\")\n",
        "\n",
        "    if response.status_code == 200:\n",
        "      # print(\"api 호출 성공\")\n",
        "      # print(response.json())\n",
        "      success_count += 1\n",
        "    else:\n",
        "      # print(f\"API 호출 실패: {response.status_code}\")\n",
        "      fail_count += 1\n",
        "\n",
        "  # 결과 확인용\n",
        "  if responses:\n",
        "\n",
        "      # 전체 결과들의 list_total_count 값 확인하여 파라미터변경 필요여부 확인코드(모든 결과가 7건씩이였음)\n",
        "      # total_counts = [\n",
        "      # r.get('energyUseDataSummaryInfo', {}).get('list_total_count', None)\n",
        "      #   for r in responses\n",
        "      # ]\n",
        "      # print(\"list_total_count 목록:\", total_counts)\n",
        "    print(f\"총 요청 수: {len(responses)}건\")\n",
        "    print(f\"성공 건수: {success_count}건\")\n",
        "    print(f\"실패 건수: {fail_count}건\")\n",
        "\n",
        "    return responses\n",
        "\n",
        "\n",
        "def main():\n",
        "\n",
        "    personal_data = []\n",
        "    # responses = get_responses()\n",
        "    with open('APIdata.json', 'r', encoding='utf-8') as f:\n",
        "      responses = json.load(f)\n",
        "    for r in responses:\n",
        "      info = r.get(\"energyUseDataSummaryInfo\", {})\n",
        "      result = info.get(\"RESULT\", {})\n",
        "      code = result.get(\"CODE\", \"UNKNOWN\")\n",
        "\n",
        "      if code == \"INFO-000\":  # 정상인경우\n",
        "        rows = info.get(\"row\", [])\n",
        "        for row in rows:\n",
        "          # 개인 유형만 추출\n",
        "          if row.get(\"MM_TYPE\") == \"개인\":\n",
        "              personal_data.append({\n",
        "                  \"YEAR\": row.get(\"YEAR\"),\n",
        "                  \"MON\": row.get(\"MON\"),\n",
        "                  \"EUS\": row.get(\"EUS\"),  #전기사용량(EUS)\n",
        "                  \"GUS\": row.get(\"GUS\"),  #가스사용량(GUS)\n",
        "                  \"WUS\": row.get(\"WUS\"),  #수도사용량(WUS)\n",
        "                  \"HUS\": row.get(\"HUS\"),  #지역난방(HUS)\n",
        "              })\n",
        "      else:\n",
        "        print\n",
        "\n",
        "    # 결과 출력\n",
        "    print(f\"‘개인’ 유형 데이터 수집 성공 건수: {len(personal_data)}건\\n\") # 기대치 120건\n",
        "\n",
        "    # DataFrame 변환\n",
        "    df = pd.DataFrame(personal_data)\n",
        "    print(df)\n",
        "\n",
        "if __name__ == \"__main__\":\n",
        "    main()"
      ],
      "metadata": {
        "id": "IO8bsKekR0W_",
        "colab": {
          "base_uri": "https://localhost:8080/"
        },
        "outputId": "8398a3b1-b92f-4770-f369-68a1b76e1fdf"
      },
      "execution_count": 31,
      "outputs": [
        {
          "output_type": "stream",
          "name": "stdout",
          "text": [
            "‘개인’ 유형 데이터 수집 성공 건수: 120건\n",
            "\n",
            "     YEAR MON        EUS       GUS           WUS           HUS\n",
            "0    2015  01  193784708  59133720  12819757.886  22740838.937\n",
            "1    2015  02  189974230  56487358  12656888.218  18793320.213\n",
            "2    2015  03  175215719  49984873  12655474.249  13826348.508\n",
            "3    2015  04  183891769  37306841  12954773.246   5836002.885\n",
            "4    2015  05  177289769  22060892  13086734.214   1320895.801\n",
            "..    ...  ..        ...       ...           ...           ...\n",
            "115  2024  08  463971328   7072251    15873544.6    130082.263\n",
            "116  2024  09  409872908   5729131    15143321.6   3420507.136\n",
            "117  2024  10  282268119   8233421    15297669.9   2695491.396\n",
            "118  2024  11  257927956  17418221    14678672.5   8836296.454\n",
            "119  2024  12  134828126  42103424     7326853.6   1513199.277\n",
            "\n",
            "[120 rows x 6 columns]\n"
          ]
        }
      ]
    },
    {
      "cell_type": "markdown",
      "source": [
        "## 4-3 텍스트 파일 읽기 및 데이터 추출"
      ],
      "metadata": {
        "id": "uLd_3A_IRrHG"
      }
    },
    {
      "cell_type": "code",
      "source": [
        "import re\n",
        "## 정규식 라이브러리\n",
        "\n",
        "## 파일(callcenter20250301.log) 오픈 및 읽기\n",
        "with open('callcenter20250301.log', 'r', encoding='utf-8') as f:\n",
        "    content = f.read()\n",
        "## 주민등록번호 패턴 생성\n",
        "pattern = re.compile(r'(\\d{6})-(\\d{7})')\n",
        "\n",
        "## 주민등록번호 마스킹\n",
        "masked_content = pattern.sub(r'\\1-*******', content)\n",
        "\n",
        "## 마스킹된 파일(callcenter20250301_masked.log) 오픈 및 쓰기\n",
        "with open('callcenter20250301_masked.log', mode='w') as f :\n",
        "  f.write(masked_content)\n",
        "\n",
        "print(\"주민등록번호 마스킹 완료. 'callcenter20250301_masked.log.txt' 파일로 저장되었습니다.\")"
      ],
      "metadata": {
        "id": "60qOf7uxVdAg",
        "colab": {
          "base_uri": "https://localhost:8080/"
        },
        "outputId": "adce9244-54b7-46aa-c286-d2049cd3f5c8"
      },
      "execution_count": null,
      "outputs": [
        {
          "output_type": "stream",
          "name": "stdout",
          "text": [
            "주민등록번호 마스킹 완료. 'callcenter20250301_masked.log.txt' 파일로 저장되었습니다.\n"
          ]
        }
      ]
    },
    {
      "cell_type": "markdown",
      "source": [
        "## 4-4 Open-Meteo의 무료 날씨 API를 통한 특정 지역 온도 조회"
      ],
      "metadata": {
        "id": "eOMufu5SXiAU"
      }
    },
    {
      "cell_type": "code",
      "source": [
        "import requests\n",
        "import json\n",
        "\n",
        "url = \"https://api.open-meteo.com/v1/forecast?=&=&current=temperature_2m\"\n",
        "params = {\n",
        "    \"latitude\": \"37.58638333\",\n",
        "    \"longitude\": \"127.0203333\",\n",
        "    \"current\": \"temperature_2m\"\n",
        "}\n",
        "\n",
        "try:\n",
        "    ## URL 및 파라미터 전송\n",
        "    response = requests.get(url, params=params)\n",
        "    response.raise_for_status()\n",
        "\n",
        "    ## JSON 데이터 읽기\n",
        "    data = response.json()\n",
        "\n",
        "    print(\"API 응답:\", data)\n",
        "    print(\"서울시 종로구의 현재 온도는 : {0}{1} 입니다.\".format(data['current']['temperature_2m'], data['current_units']['temperature_2m']))\n",
        "\n",
        "except requests.exceptions.RequestException as e:\n",
        "    print(f\"API 호출 실패: {e}\")\n",
        "except json.JSONDecodeError as e:\n",
        "    print(f\"JSON 파싱 실패: {e}\")"
      ],
      "metadata": {
        "id": "JpmgdsW9V0CY",
        "colab": {
          "base_uri": "https://localhost:8080/"
        },
        "outputId": "60cbeb2e-99a1-45ad-86f9-039d79a7740e"
      },
      "execution_count": null,
      "outputs": [
        {
          "output_type": "stream",
          "name": "stdout",
          "text": [
            "API 응답: {'latitude': 37.6, 'longitude': 127.0, 'generationtime_ms': 0.031948089599609375, 'utc_offset_seconds': 0, 'timezone': 'GMT', 'timezone_abbreviation': 'GMT', 'elevation': 29.0, 'current_units': {'time': 'iso8601', 'interval': 'seconds', 'temperature_2m': '°C'}, 'current': {'time': '2025-10-19T06:15', 'interval': 900, 'temperature_2m': 19.0}}\n",
            "서울시 종로구의 현재 온도는 : 19.0°C 입니다.\n"
          ]
        }
      ]
    },
    {
      "cell_type": "markdown",
      "source": [
        "## 4-5 Selenium과 lxml을 이용한 웹 스크래핑"
      ],
      "metadata": {
        "id": "RLfPaa1ZiqIC"
      }
    },
    {
      "cell_type": "code",
      "source": [
        "!curl -o google-chrome-stable_current_amd64.deb https://dl.google.com/linux/direct/google-chrome-stable_current_amd64.deb\n",
        "!apt install ./google-chrome-stable_current_amd64.deb -y\n",
        "!pip install selenium webdriver_manager"
      ],
      "metadata": {
        "id": "79dmM7MNk8pB",
        "colab": {
          "base_uri": "https://localhost:8080/"
        },
        "outputId": "46a6b4c5-bd94-4c7f-c898-2464964d66e6"
      },
      "execution_count": null,
      "outputs": [
        {
          "output_type": "stream",
          "name": "stdout",
          "text": [
            "  % Total    % Received % Xferd  Average Speed   Time    Time     Time  Current\n",
            "                                 Dload  Upload   Total   Spent    Left  Speed\n",
            "100  114M  100  114M    0     0   268M      0 --:--:-- --:--:-- --:--:--  268M\n",
            "Reading package lists... Done\n",
            "Building dependency tree... Done\n",
            "Reading state information... Done\n",
            "Note, selecting 'google-chrome-stable' instead of './google-chrome-stable_current_amd64.deb'\n",
            "The following additional packages will be installed:\n",
            "  libvulkan1 mesa-vulkan-drivers\n",
            "The following NEW packages will be installed:\n",
            "  google-chrome-stable libvulkan1 mesa-vulkan-drivers\n",
            "0 upgraded, 3 newly installed, 0 to remove and 38 not upgraded.\n",
            "Need to get 10.9 MB/131 MB of archives.\n",
            "After this operation, 448 MB of additional disk space will be used.\n",
            "Get:1 http://archive.ubuntu.com/ubuntu jammy/main amd64 libvulkan1 amd64 1.3.204.1-2 [128 kB]\n",
            "Get:2 http://archive.ubuntu.com/ubuntu jammy-updates/main amd64 mesa-vulkan-drivers amd64 23.2.1-1ubuntu3.1~22.04.3 [10.7 MB]\n",
            "Get:3 /content/google-chrome-stable_current_amd64.deb google-chrome-stable amd64 141.0.7390.107-1 [121 MB]\n",
            "Fetched 10.9 MB in 1s (8,037 kB/s)\n",
            "Selecting previously unselected package libvulkan1:amd64.\n",
            "(Reading database ... 126675 files and directories currently installed.)\n",
            "Preparing to unpack .../libvulkan1_1.3.204.1-2_amd64.deb ...\n",
            "Unpacking libvulkan1:amd64 (1.3.204.1-2) ...\n",
            "Selecting previously unselected package google-chrome-stable.\n",
            "Preparing to unpack .../google-chrome-stable_current_amd64.deb ...\n",
            "Unpacking google-chrome-stable (141.0.7390.107-1) ...\n",
            "Selecting previously unselected package mesa-vulkan-drivers:amd64.\n",
            "Preparing to unpack .../mesa-vulkan-drivers_23.2.1-1ubuntu3.1~22.04.3_amd64.deb ...\n",
            "Unpacking mesa-vulkan-drivers:amd64 (23.2.1-1ubuntu3.1~22.04.3) ...\n",
            "Setting up libvulkan1:amd64 (1.3.204.1-2) ...\n",
            "Setting up mesa-vulkan-drivers:amd64 (23.2.1-1ubuntu3.1~22.04.3) ...\n",
            "Setting up google-chrome-stable (141.0.7390.107-1) ...\n",
            "update-alternatives: using /usr/bin/google-chrome-stable to provide /usr/bin/x-www-browser (x-www-browser) in auto mode\n",
            "update-alternatives: using /usr/bin/google-chrome-stable to provide /usr/bin/gnome-www-browser (gnome-www-browser) in auto mode\n",
            "update-alternatives: using /usr/bin/google-chrome-stable to provide /usr/bin/google-chrome (google-chrome) in auto mode\n",
            "Processing triggers for man-db (2.10.2-1) ...\n",
            "Processing triggers for mailcap (3.70+nmu1ubuntu1) ...\n",
            "Processing triggers for libc-bin (2.35-0ubuntu3.8) ...\n",
            "/sbin/ldconfig.real: /usr/local/lib/libtcm_debug.so.1 is not a symbolic link\n",
            "\n",
            "/sbin/ldconfig.real: /usr/local/lib/libtbbbind_2_0.so.3 is not a symbolic link\n",
            "\n",
            "/sbin/ldconfig.real: /usr/local/lib/libur_loader.so.0 is not a symbolic link\n",
            "\n",
            "/sbin/ldconfig.real: /usr/local/lib/libur_adapter_level_zero.so.0 is not a symbolic link\n",
            "\n",
            "/sbin/ldconfig.real: /usr/local/lib/libtbbmalloc_proxy.so.2 is not a symbolic link\n",
            "\n",
            "/sbin/ldconfig.real: /usr/local/lib/libumf.so.0 is not a symbolic link\n",
            "\n",
            "/sbin/ldconfig.real: /usr/local/lib/libtbbmalloc.so.2 is not a symbolic link\n",
            "\n",
            "/sbin/ldconfig.real: /usr/local/lib/libtbb.so.12 is not a symbolic link\n",
            "\n",
            "/sbin/ldconfig.real: /usr/local/lib/libur_adapter_level_zero_v2.so.0 is not a symbolic link\n",
            "\n",
            "/sbin/ldconfig.real: /usr/local/lib/libtbbbind_2_5.so.3 is not a symbolic link\n",
            "\n",
            "/sbin/ldconfig.real: /usr/local/lib/libhwloc.so.15 is not a symbolic link\n",
            "\n",
            "/sbin/ldconfig.real: /usr/local/lib/libtbbbind.so.3 is not a symbolic link\n",
            "\n",
            "/sbin/ldconfig.real: /usr/local/lib/libtcm.so.1 is not a symbolic link\n",
            "\n",
            "/sbin/ldconfig.real: /usr/local/lib/libur_adapter_opencl.so.0 is not a symbolic link\n",
            "\n",
            "Collecting selenium\n",
            "  Downloading selenium-4.37.0-py3-none-any.whl.metadata (7.5 kB)\n",
            "Collecting webdriver_manager\n",
            "  Downloading webdriver_manager-4.0.2-py2.py3-none-any.whl.metadata (12 kB)\n",
            "Requirement already satisfied: urllib3<3.0,>=2.5.0 in /usr/local/lib/python3.12/dist-packages (from urllib3[socks]<3.0,>=2.5.0->selenium) (2.5.0)\n",
            "Collecting trio<1.0,>=0.31.0 (from selenium)\n",
            "  Downloading trio-0.31.0-py3-none-any.whl.metadata (8.5 kB)\n",
            "Collecting trio-websocket<1.0,>=0.12.2 (from selenium)\n",
            "  Downloading trio_websocket-0.12.2-py3-none-any.whl.metadata (5.1 kB)\n",
            "Requirement already satisfied: certifi>=2025.10.5 in /usr/local/lib/python3.12/dist-packages (from selenium) (2025.10.5)\n",
            "Requirement already satisfied: typing_extensions<5.0,>=4.15.0 in /usr/local/lib/python3.12/dist-packages (from selenium) (4.15.0)\n",
            "Requirement already satisfied: websocket-client<2.0,>=1.8.0 in /usr/local/lib/python3.12/dist-packages (from selenium) (1.9.0)\n",
            "Requirement already satisfied: requests in /usr/local/lib/python3.12/dist-packages (from webdriver_manager) (2.32.4)\n",
            "Requirement already satisfied: python-dotenv in /usr/local/lib/python3.12/dist-packages (from webdriver_manager) (1.1.1)\n",
            "Requirement already satisfied: packaging in /usr/local/lib/python3.12/dist-packages (from webdriver_manager) (25.0)\n",
            "Requirement already satisfied: attrs>=23.2.0 in /usr/local/lib/python3.12/dist-packages (from trio<1.0,>=0.31.0->selenium) (25.4.0)\n",
            "Requirement already satisfied: sortedcontainers in /usr/local/lib/python3.12/dist-packages (from trio<1.0,>=0.31.0->selenium) (2.4.0)\n",
            "Requirement already satisfied: idna in /usr/local/lib/python3.12/dist-packages (from trio<1.0,>=0.31.0->selenium) (3.11)\n",
            "Collecting outcome (from trio<1.0,>=0.31.0->selenium)\n",
            "  Downloading outcome-1.3.0.post0-py2.py3-none-any.whl.metadata (2.6 kB)\n",
            "Requirement already satisfied: sniffio>=1.3.0 in /usr/local/lib/python3.12/dist-packages (from trio<1.0,>=0.31.0->selenium) (1.3.1)\n",
            "Collecting wsproto>=0.14 (from trio-websocket<1.0,>=0.12.2->selenium)\n",
            "  Downloading wsproto-1.2.0-py3-none-any.whl.metadata (5.6 kB)\n",
            "Requirement already satisfied: pysocks!=1.5.7,<2.0,>=1.5.6 in /usr/local/lib/python3.12/dist-packages (from urllib3[socks]<3.0,>=2.5.0->selenium) (1.7.1)\n",
            "Requirement already satisfied: charset_normalizer<4,>=2 in /usr/local/lib/python3.12/dist-packages (from requests->webdriver_manager) (3.4.4)\n",
            "Requirement already satisfied: h11<1,>=0.9.0 in /usr/local/lib/python3.12/dist-packages (from wsproto>=0.14->trio-websocket<1.0,>=0.12.2->selenium) (0.16.0)\n",
            "Downloading selenium-4.37.0-py3-none-any.whl (9.7 MB)\n",
            "\u001b[2K   \u001b[90m━━━━━━━━━━━━━━━━━━━━━━━━━━━━━━━━━━━━━━━━\u001b[0m \u001b[32m9.7/9.7 MB\u001b[0m \u001b[31m56.8 MB/s\u001b[0m eta \u001b[36m0:00:00\u001b[0m\n",
            "\u001b[?25hDownloading webdriver_manager-4.0.2-py2.py3-none-any.whl (27 kB)\n",
            "Downloading trio-0.31.0-py3-none-any.whl (512 kB)\n",
            "\u001b[2K   \u001b[90m━━━━━━━━━━━━━━━━━━━━━━━━━━━━━━━━━━━━━━━━\u001b[0m \u001b[32m512.7/512.7 kB\u001b[0m \u001b[31m28.8 MB/s\u001b[0m eta \u001b[36m0:00:00\u001b[0m\n",
            "\u001b[?25hDownloading trio_websocket-0.12.2-py3-none-any.whl (21 kB)\n",
            "Downloading outcome-1.3.0.post0-py2.py3-none-any.whl (10 kB)\n",
            "Downloading wsproto-1.2.0-py3-none-any.whl (24 kB)\n",
            "Installing collected packages: wsproto, outcome, webdriver_manager, trio, trio-websocket, selenium\n",
            "Successfully installed outcome-1.3.0.post0 selenium-4.37.0 trio-0.31.0 trio-websocket-0.12.2 webdriver_manager-4.0.2 wsproto-1.2.0\n"
          ]
        }
      ]
    },
    {
      "cell_type": "code",
      "source": [
        "from selenium import webdriver\n",
        "from selenium.webdriver.chrome.service import Service as ChromeService\n",
        "from webdriver_manager.chrome import ChromeDriverManager\n",
        "from selenium.webdriver.common.by import By\n",
        "from lxml import html\n",
        "import time\n",
        "\n",
        "chrome_options = webdriver.ChromeOptions()\n",
        "chrome_options.add_argument('--headless')               # 브라우저 창 없이 실행\n",
        "chrome_options.add_argument('--no-sandbox')             # 보안모드 비활성화 (Colab 필수)\n",
        "chrome_options.add_argument('--disable-dev-shm-usage')  # 메모리 부족 방지 (Colab 필수)\n",
        "chrome_options.add_argument('--window-size=1920x1080')  # 창 크기 설정(가상)\n",
        "chrome_options.add_argument('--disable-gpu')            # GPU 가속 비활성화 (일부 환경 안정성)\n",
        "chrome_options.binary_location = \"/usr/bin/google-chrome-stable\"  # Colab용 크롬 경로 지정\n",
        "\n",
        "## 드라이버 실행\n",
        "driver = webdriver.Chrome(options=chrome_options)\n",
        "\n",
        "## 사이트 접속\n",
        "url = 'https://professor.knou.ac.kr/jaehwachung/index.do'\n",
        "driver.get(url)\n",
        "\n",
        "## 사이트 접속 대기\n",
        "time.sleep(2)\n",
        "\n",
        "## 페이지 제목 출력\n",
        "page_source = driver.page_source\n",
        "tree = html.fromstring(page_source)\n",
        "\n",
        "title_text = tree.xpath('//title/text()')\n",
        "print(title_text)\n",
        "\n",
        "## 드라이버 종료\n",
        "driver.quit()"
      ],
      "metadata": {
        "id": "cRC8x3_iW0im",
        "colab": {
          "base_uri": "https://localhost:8080/"
        },
        "outputId": "dc3b75e6-f033-458c-b68c-3a1d67ad5cb7"
      },
      "execution_count": null,
      "outputs": [
        {
          "output_type": "stream",
          "name": "stdout",
          "text": [
            "['\\n\\t\\tAlert \\n\\t\\t\\n\\t']\n"
          ]
        }
      ]
    },
    {
      "cell_type": "markdown",
      "source": [
        "\n",
        "# 실습 시나리오"
      ],
      "metadata": {
        "id": "Bu6OMZyGirOq"
      }
    },
    {
      "cell_type": "markdown",
      "source": [
        "## 공공데이터 포털 가입 및 데이터 신청\n",
        "\n",
        "- [https://www.data.go.kr](https://www.data.go.kr)\n",
        "- 한국환경공단 에어코리아 대기오염정보 데이터 신청"
      ],
      "metadata": {
        "id": "nsuqRN9RkZlW"
      }
    },
    {
      "cell_type": "code",
      "source": [
        "import requests\n",
        "\n",
        "## 데이터 수집 url 및 api key 설정\n",
        "url = 'https://api.open-meteo.com/v1/forecast?=&=&current=temperature_2m'\n",
        "api_key = ''\n",
        "\n",
        "# params = {\n",
        "#     'serviceKey': api_key,\n",
        "#     'returnType': 'json',\n",
        "#     'numOfRows': '100',\n",
        "#     'pageNo': '1',\n",
        "#     'sidoName': '서울',\n",
        "#     'ver': '1.0'\n",
        "# }\n",
        "\n",
        "params = {\n",
        "    \"latitude\": \"37.58638333\",\n",
        "    \"longitude\": \"127.0203333\",\n",
        "    \"current\": \"temperature_2m\"\n",
        "}\n",
        "\n",
        "\n",
        "## 데이터 수집\n",
        "response = requests.get(url, params=params)\n",
        "response.raise_for_status()\n",
        "## 호출 성공/실패 출력\n",
        "print(response.status_code)\n",
        "print(response.json())\n"
      ],
      "metadata": {
        "id": "7yCozmQeXJcO",
        "colab": {
          "base_uri": "https://localhost:8080/"
        },
        "outputId": "3d04be2d-98b8-42c8-f69e-1fc60efcc17c"
      },
      "execution_count": null,
      "outputs": [
        {
          "output_type": "stream",
          "name": "stdout",
          "text": [
            "200\n",
            "{'latitude': 37.6, 'longitude': 127.0, 'generationtime_ms': 0.02491474151611328, 'utc_offset_seconds': 0, 'timezone': 'GMT', 'timezone_abbreviation': 'GMT', 'elevation': 29.0, 'current_units': {'time': 'iso8601', 'interval': 'seconds', 'temperature_2m': '°C'}, 'current': {'time': '2025-10-19T06:30', 'interval': 900, 'temperature_2m': 18.5}}\n"
          ]
        }
      ]
    }
  ]
}